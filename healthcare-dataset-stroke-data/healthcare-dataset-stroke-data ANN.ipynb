{
 "cells": [
  {
   "cell_type": "code",
   "execution_count": 2,
   "metadata": {},
   "outputs": [],
   "source": [
    "import numpy as np\n",
    "import pandas as pd\n",
    "import seaborn as sns\n",
    "import matplotlib.pyplot as plt\n",
    "%matplotlib inline"
   ]
  },
  {
   "cell_type": "code",
   "execution_count": 3,
   "metadata": {},
   "outputs": [],
   "source": [
    "data=pd.read_csv(r'C:\\Users\\wlpch\\Documents\\sab\\healthcare-dataset-stroke-data\\healthcare-dataset-stroke-data.csv')"
   ]
  },
  {
   "cell_type": "code",
   "execution_count": 4,
   "metadata": {},
   "outputs": [
    {
     "data": {
      "text/html": [
       "<div>\n",
       "<style scoped>\n",
       "    .dataframe tbody tr th:only-of-type {\n",
       "        vertical-align: middle;\n",
       "    }\n",
       "\n",
       "    .dataframe tbody tr th {\n",
       "        vertical-align: top;\n",
       "    }\n",
       "\n",
       "    .dataframe thead th {\n",
       "        text-align: right;\n",
       "    }\n",
       "</style>\n",
       "<table border=\"1\" class=\"dataframe\">\n",
       "  <thead>\n",
       "    <tr style=\"text-align: right;\">\n",
       "      <th></th>\n",
       "      <th>id</th>\n",
       "      <th>gender</th>\n",
       "      <th>age</th>\n",
       "      <th>hypertension</th>\n",
       "      <th>heart_disease</th>\n",
       "      <th>ever_married</th>\n",
       "      <th>work_type</th>\n",
       "      <th>Residence_type</th>\n",
       "      <th>avg_glucose_level</th>\n",
       "      <th>bmi</th>\n",
       "      <th>smoking_status</th>\n",
       "      <th>stroke</th>\n",
       "    </tr>\n",
       "  </thead>\n",
       "  <tbody>\n",
       "    <tr>\n",
       "      <th>0</th>\n",
       "      <td>9046</td>\n",
       "      <td>Male</td>\n",
       "      <td>67.0</td>\n",
       "      <td>0</td>\n",
       "      <td>1</td>\n",
       "      <td>Yes</td>\n",
       "      <td>Private</td>\n",
       "      <td>Urban</td>\n",
       "      <td>228.69</td>\n",
       "      <td>36.6</td>\n",
       "      <td>formerly smoked</td>\n",
       "      <td>1</td>\n",
       "    </tr>\n",
       "    <tr>\n",
       "      <th>1</th>\n",
       "      <td>51676</td>\n",
       "      <td>Female</td>\n",
       "      <td>61.0</td>\n",
       "      <td>0</td>\n",
       "      <td>0</td>\n",
       "      <td>Yes</td>\n",
       "      <td>Self-employed</td>\n",
       "      <td>Rural</td>\n",
       "      <td>202.21</td>\n",
       "      <td>NaN</td>\n",
       "      <td>never smoked</td>\n",
       "      <td>1</td>\n",
       "    </tr>\n",
       "    <tr>\n",
       "      <th>2</th>\n",
       "      <td>31112</td>\n",
       "      <td>Male</td>\n",
       "      <td>80.0</td>\n",
       "      <td>0</td>\n",
       "      <td>1</td>\n",
       "      <td>Yes</td>\n",
       "      <td>Private</td>\n",
       "      <td>Rural</td>\n",
       "      <td>105.92</td>\n",
       "      <td>32.5</td>\n",
       "      <td>never smoked</td>\n",
       "      <td>1</td>\n",
       "    </tr>\n",
       "    <tr>\n",
       "      <th>3</th>\n",
       "      <td>60182</td>\n",
       "      <td>Female</td>\n",
       "      <td>49.0</td>\n",
       "      <td>0</td>\n",
       "      <td>0</td>\n",
       "      <td>Yes</td>\n",
       "      <td>Private</td>\n",
       "      <td>Urban</td>\n",
       "      <td>171.23</td>\n",
       "      <td>34.4</td>\n",
       "      <td>smokes</td>\n",
       "      <td>1</td>\n",
       "    </tr>\n",
       "    <tr>\n",
       "      <th>4</th>\n",
       "      <td>1665</td>\n",
       "      <td>Female</td>\n",
       "      <td>79.0</td>\n",
       "      <td>1</td>\n",
       "      <td>0</td>\n",
       "      <td>Yes</td>\n",
       "      <td>Self-employed</td>\n",
       "      <td>Rural</td>\n",
       "      <td>174.12</td>\n",
       "      <td>24.0</td>\n",
       "      <td>never smoked</td>\n",
       "      <td>1</td>\n",
       "    </tr>\n",
       "  </tbody>\n",
       "</table>\n",
       "</div>"
      ],
      "text/plain": [
       "      id  gender   age  hypertension  heart_disease ever_married  \\\n",
       "0   9046    Male  67.0             0              1          Yes   \n",
       "1  51676  Female  61.0             0              0          Yes   \n",
       "2  31112    Male  80.0             0              1          Yes   \n",
       "3  60182  Female  49.0             0              0          Yes   \n",
       "4   1665  Female  79.0             1              0          Yes   \n",
       "\n",
       "       work_type Residence_type  avg_glucose_level   bmi   smoking_status  \\\n",
       "0        Private          Urban             228.69  36.6  formerly smoked   \n",
       "1  Self-employed          Rural             202.21   NaN     never smoked   \n",
       "2        Private          Rural             105.92  32.5     never smoked   \n",
       "3        Private          Urban             171.23  34.4           smokes   \n",
       "4  Self-employed          Rural             174.12  24.0     never smoked   \n",
       "\n",
       "   stroke  \n",
       "0       1  \n",
       "1       1  \n",
       "2       1  \n",
       "3       1  \n",
       "4       1  "
      ]
     },
     "execution_count": 4,
     "metadata": {},
     "output_type": "execute_result"
    }
   ],
   "source": [
    "data.head()"
   ]
  },
  {
   "cell_type": "code",
   "execution_count": 5,
   "metadata": {},
   "outputs": [
    {
     "data": {
      "text/plain": [
       "<AxesSubplot:xlabel='stroke', ylabel='count'>"
      ]
     },
     "execution_count": 5,
     "metadata": {},
     "output_type": "execute_result"
    },
    {
     "data": {
      "image/png": "[encoded data removed]",
      "text/plain": [
       "<Figure size 432x288 with 1 Axes>"
      ]
     },
     "metadata": {
      "needs_background": "light"
     },
     "output_type": "display_data"
    }
   ],
   "source": [
    "sns.countplot(x=\"stroke\", data=data)"
   ]
  },
  {
   "cell_type": "code",
   "execution_count": 6,
   "metadata": {},
   "outputs": [
    {
     "name": "stdout",
     "output_type": "stream",
     "text": [
      "<class 'pandas.core.frame.DataFrame'>\n",
      "RangeIndex: 5110 entries, 0 to 5109\n",
      "Data columns (total 12 columns):\n",
      " #   Column             Non-Null Count  Dtype  \n",
      "---  ------             --------------  -----  \n",
      " 0   id                 5110 non-null   int64  \n",
      " 1   gender             5110 non-null   object \n",
      " 2   age                5110 non-null   float64\n",
      " 3   hypertension       5110 non-null   int64  \n",
      " 4   heart_disease      5110 non-null   int64  \n",
      " 5   ever_married       5110 non-null   object \n",
      " 6   work_type          5110 non-null   object \n",
      " 7   Residence_type     5110 non-null   object \n",
      " 8   avg_glucose_level  5110 non-null   float64\n",
      " 9   bmi                4909 non-null   float64\n",
      " 10  smoking_status     5110 non-null   object \n",
      " 11  stroke             5110 non-null   int64  \n",
      "dtypes: float64(3), int64(4), object(5)\n",
      "memory usage: 479.2+ KB\n"
     ]
    }
   ],
   "source": [
    "data.info()"
   ]
  },
  {
   "cell_type": "code",
   "execution_count": 7,
   "metadata": {},
   "outputs": [
    {
     "data": {
      "text/plain": [
       "<AxesSubplot:xlabel='bmi'>"
      ]
     },
     "execution_count": 7,
     "metadata": {},
     "output_type": "execute_result"
    },
    {
     "data": {
      "image/png": "[encoded data removed]",
      "text/plain": [
       "<Figure size 432x288 with 1 Axes>"
      ]
     },
     "metadata": {
      "needs_background": "light"
     },
     "output_type": "display_data"
    }
   ],
   "source": [
    "sns.boxplot(x='bmi',data=data)"
   ]
  },
  {
   "cell_type": "code",
   "execution_count": 8,
   "metadata": {},
   "outputs": [],
   "source": [
    "data['bmi']=data['bmi'].fillna(data['bmi'].mean())"
   ]
  },
  {
   "cell_type": "code",
   "execution_count": 9,
   "metadata": {},
   "outputs": [],
   "source": [
    "data_dup=data\n",
    "X=data_dup.iloc[:,1:-1]\n",
    "y=data_dup.iloc[:,-1]"
   ]
  },
  {
   "cell_type": "code",
   "execution_count": 10,
   "metadata": {},
   "outputs": [
    {
     "name": "stdout",
     "output_type": "stream",
     "text": [
      "['gender', 'ever_married', 'work_type', 'Residence_type', 'smoking_status']\n"
     ]
    }
   ],
   "source": [
    "num_obj = [var for var in X.columns if X[var].dtypes == 'O']\n",
    "print(num_obj)"
   ]
  },
  {
   "cell_type": "code",
   "execution_count": 11,
   "metadata": {},
   "outputs": [],
   "source": [
    "for vars_encode in num_obj:\n",
    "    Parchnum={ni:indi for indi,ni in enumerate(set(X[vars_encode]))}\n",
    "    X[vars_encode]=[Parchnum[ni] for ni in X[vars_encode]]"
   ]
  },
  {
   "cell_type": "code",
   "execution_count": 65,
   "metadata": {},
   "outputs": [],
   "source": [
    "X['avg_glucose_level']=np.log(X['avg_glucose_level'])"
   ]
  },
  {
   "cell_type": "code",
   "execution_count": 67,
   "metadata": {},
   "outputs": [
    {
     "data": {
      "text/html": [
       "<div>\n",
       "<style scoped>\n",
       "    .dataframe tbody tr th:only-of-type {\n",
       "        vertical-align: middle;\n",
       "    }\n",
       "\n",
       "    .dataframe tbody tr th {\n",
       "        vertical-align: top;\n",
       "    }\n",
       "\n",
       "    .dataframe thead th {\n",
       "        text-align: right;\n",
       "    }\n",
       "</style>\n",
       "<table border=\"1\" class=\"dataframe\">\n",
       "  <thead>\n",
       "    <tr style=\"text-align: right;\">\n",
       "      <th></th>\n",
       "      <th>gender</th>\n",
       "      <th>age</th>\n",
       "      <th>hypertension</th>\n",
       "      <th>heart_disease</th>\n",
       "      <th>ever_married</th>\n",
       "      <th>work_type</th>\n",
       "      <th>Residence_type</th>\n",
       "      <th>avg_glucose_level</th>\n",
       "      <th>bmi</th>\n",
       "      <th>smoking_status</th>\n",
       "    </tr>\n",
       "  </thead>\n",
       "  <tbody>\n",
       "    <tr>\n",
       "      <th>count</th>\n",
       "      <td>5110.000000</td>\n",
       "      <td>5110.000000</td>\n",
       "      <td>5110.000000</td>\n",
       "      <td>5110.000000</td>\n",
       "      <td>5110.000000</td>\n",
       "      <td>5110.000000</td>\n",
       "      <td>5110.000000</td>\n",
       "      <td>5110.000000</td>\n",
       "      <td>5110.000000</td>\n",
       "      <td>5110.000000</td>\n",
       "    </tr>\n",
       "    <tr>\n",
       "      <th>mean</th>\n",
       "      <td>0.586301</td>\n",
       "      <td>43.226614</td>\n",
       "      <td>0.097456</td>\n",
       "      <td>0.054012</td>\n",
       "      <td>0.656164</td>\n",
       "      <td>1.300000</td>\n",
       "      <td>0.508023</td>\n",
       "      <td>4.592465</td>\n",
       "      <td>28.893237</td>\n",
       "      <td>1.623092</td>\n",
       "    </tr>\n",
       "    <tr>\n",
       "      <th>std</th>\n",
       "      <td>0.492941</td>\n",
       "      <td>22.612647</td>\n",
       "      <td>0.296607</td>\n",
       "      <td>0.226063</td>\n",
       "      <td>0.475034</td>\n",
       "      <td>1.604402</td>\n",
       "      <td>0.499985</td>\n",
       "      <td>0.361985</td>\n",
       "      <td>7.698018</td>\n",
       "      <td>1.071534</td>\n",
       "    </tr>\n",
       "    <tr>\n",
       "      <th>min</th>\n",
       "      <td>0.000000</td>\n",
       "      <td>0.080000</td>\n",
       "      <td>0.000000</td>\n",
       "      <td>0.000000</td>\n",
       "      <td>0.000000</td>\n",
       "      <td>0.000000</td>\n",
       "      <td>0.000000</td>\n",
       "      <td>4.009513</td>\n",
       "      <td>10.300000</td>\n",
       "      <td>0.000000</td>\n",
       "    </tr>\n",
       "    <tr>\n",
       "      <th>25%</th>\n",
       "      <td>0.000000</td>\n",
       "      <td>25.000000</td>\n",
       "      <td>0.000000</td>\n",
       "      <td>0.000000</td>\n",
       "      <td>0.000000</td>\n",
       "      <td>0.000000</td>\n",
       "      <td>0.000000</td>\n",
       "      <td>4.346982</td>\n",
       "      <td>23.800000</td>\n",
       "      <td>1.000000</td>\n",
       "    </tr>\n",
       "    <tr>\n",
       "      <th>50%</th>\n",
       "      <td>1.000000</td>\n",
       "      <td>45.000000</td>\n",
       "      <td>0.000000</td>\n",
       "      <td>0.000000</td>\n",
       "      <td>1.000000</td>\n",
       "      <td>0.000000</td>\n",
       "      <td>1.000000</td>\n",
       "      <td>4.520538</td>\n",
       "      <td>28.400000</td>\n",
       "      <td>1.000000</td>\n",
       "    </tr>\n",
       "    <tr>\n",
       "      <th>75%</th>\n",
       "      <td>1.000000</td>\n",
       "      <td>61.000000</td>\n",
       "      <td>0.000000</td>\n",
       "      <td>0.000000</td>\n",
       "      <td>1.000000</td>\n",
       "      <td>3.000000</td>\n",
       "      <td>1.000000</td>\n",
       "      <td>4.736988</td>\n",
       "      <td>32.800000</td>\n",
       "      <td>3.000000</td>\n",
       "    </tr>\n",
       "    <tr>\n",
       "      <th>max</th>\n",
       "      <td>2.000000</td>\n",
       "      <td>82.000000</td>\n",
       "      <td>1.000000</td>\n",
       "      <td>1.000000</td>\n",
       "      <td>1.000000</td>\n",
       "      <td>4.000000</td>\n",
       "      <td>1.000000</td>\n",
       "      <td>5.604846</td>\n",
       "      <td>97.600000</td>\n",
       "      <td>3.000000</td>\n",
       "    </tr>\n",
       "  </tbody>\n",
       "</table>\n",
       "</div>"
      ],
      "text/plain": [
       "            gender          age  hypertension  heart_disease  ever_married  \\\n",
       "count  5110.000000  5110.000000   5110.000000    5110.000000   5110.000000   \n",
       "mean      0.586301    43.226614      0.097456       0.054012      0.656164   \n",
       "std       0.492941    22.612647      0.296607       0.226063      0.475034   \n",
       "min       0.000000     0.080000      0.000000       0.000000      0.000000   \n",
       "25%       0.000000    25.000000      0.000000       0.000000      0.000000   \n",
       "50%       1.000000    45.000000      0.000000       0.000000      1.000000   \n",
       "75%       1.000000    61.000000      0.000000       0.000000      1.000000   \n",
       "max       2.000000    82.000000      1.000000       1.000000      1.000000   \n",
       "\n",
       "         work_type  Residence_type  avg_glucose_level          bmi  \\\n",
       "count  5110.000000     5110.000000        5110.000000  5110.000000   \n",
       "mean      1.300000        0.508023           4.592465    28.893237   \n",
       "std       1.604402        0.499985           0.361985     7.698018   \n",
       "min       0.000000        0.000000           4.009513    10.300000   \n",
       "25%       0.000000        0.000000           4.346982    23.800000   \n",
       "50%       0.000000        1.000000           4.520538    28.400000   \n",
       "75%       3.000000        1.000000           4.736988    32.800000   \n",
       "max       4.000000        1.000000           5.604846    97.600000   \n",
       "\n",
       "       smoking_status  \n",
       "count     5110.000000  \n",
       "mean         1.623092  \n",
       "std          1.071534  \n",
       "min          0.000000  \n",
       "25%          1.000000  \n",
       "50%          1.000000  \n",
       "75%          3.000000  \n",
       "max          3.000000  "
      ]
     },
     "execution_count": 67,
     "metadata": {},
     "output_type": "execute_result"
    }
   ],
   "source": [
    "X.describe()"
   ]
  },
  {
   "cell_type": "code",
   "execution_count": 68,
   "metadata": {},
   "outputs": [],
   "source": [
    "import tensorflow as tf\n",
    "from tensorflow.keras.layers import Dense\n",
    "from tensorflow.keras.models import Sequential\n",
    "from tensorflow.keras.optimizers import Adam\n",
    "from sklearn.preprocessing import StandardScaler"
   ]
  },
  {
   "cell_type": "code",
   "execution_count": 69,
   "metadata": {},
   "outputs": [],
   "source": [
    "from sklearn.model_selection import train_test_split,StratifiedKFold\n",
    "trainX,testX,trainy,testy=train_test_split(X,y,test_size=0.2,random_state=0)"
   ]
  },
  {
   "cell_type": "code",
   "execution_count": 71,
   "metadata": {},
   "outputs": [
    {
     "data": {
      "text/plain": [
       "0    968\n",
       "1     54\n",
       "Name: stroke, dtype: int64"
      ]
     },
     "execution_count": 71,
     "metadata": {},
     "output_type": "execute_result"
    }
   ],
   "source": [
    "testy.value_counts()"
   ]
  },
  {
   "cell_type": "code",
   "execution_count": 91,
   "metadata": {},
   "outputs": [],
   "source": [
    "model=Sequential()\n",
    "model.add(tf.keras.Input(shape=(trainX.shape[1],)))\n",
    "model.add(Dense(units=64,kernel_initializer='he_uniform',activation='relu'))\n",
    "model.add(Dense(units=512,kernel_initializer='he_uniform',activation='relu'))\n",
    "model.add(Dense(units=32,kernel_initializer='he_uniform',activation='relu'))\n",
    "model.add(Dense(units=32,kernel_initializer='he_uniform',activation='relu'))\n",
    "model.add(Dense(units=32,kernel_initializer='he_uniform',activation='relu'))\n",
    "model.add(Dense(units=32,kernel_initializer='he_uniform',activation='relu'))\n",
    "model.add(Dense(units=32,kernel_initializer='he_uniform',activation='relu'))\n",
    "model.add(Dense(units=32,kernel_initializer='he_uniform',activation='relu'))\n",
    "model.add(Dense(units=32,kernel_initializer='he_uniform',activation='relu'))\n",
    "model.add(Dense(units=1,activation='sigmoid'))\n",
    "opt=Adam(learning_rate=0.01)\n",
    "bce = tf.keras.losses.BinaryCrossentropy()\n",
    "model.compile(optimizer=opt,loss=bce)"
   ]
  },
  {
   "cell_type": "code",
   "execution_count": 73,
   "metadata": {},
   "outputs": [],
   "source": [
    "from sklearn.metrics import confusion_matrix,classification_report,r2_score"
   ]
  },
  {
   "cell_type": "code",
   "execution_count": 76,
   "metadata": {},
   "outputs": [],
   "source": [
    "from imblearn.over_sampling import SMOTE\n",
    "\n",
    "smote=SMOTE()\n",
    "X_smote,y_smote=smote.fit_resample(trainX,trainy)"
   ]
  },
  {
   "cell_type": "code",
   "execution_count": 92,
   "metadata": {
    "scrolled": true
   },
   "outputs": [
    {
     "name": "stdout",
     "output_type": "stream",
     "text": [
      "Epoch 1/20\n",
      "141/141 [==============================] - 1s 2ms/step - loss: 0.5480 - val_loss: 0.3868\n",
      "Epoch 2/20\n",
      "141/141 [==============================] - 0s 2ms/step - loss: 0.3771 - val_loss: 0.3622\n",
      "Epoch 3/20\n",
      "141/141 [==============================] - 0s 1ms/step - loss: 0.3228 - val_loss: 0.4046\n",
      "Epoch 4/20\n",
      "141/141 [==============================] - 0s 1ms/step - loss: 0.3181 - val_loss: 0.3273\n",
      "Epoch 5/20\n",
      "141/141 [==============================] - 0s 1ms/step - loss: 0.3141 - val_loss: 0.3170\n",
      "Accuracy in folds 1 : 0.5121943181069145\n",
      "Epoch 1/20\n",
      "141/141 [==============================] - 0s 2ms/step - loss: 0.2838 - val_loss: 0.2556\n",
      "Epoch 2/20\n",
      "141/141 [==============================] - 0s 1ms/step - loss: 0.2731 - val_loss: 0.2494\n",
      "Epoch 3/20\n",
      "141/141 [==============================] - 0s 1ms/step - loss: 0.2606 - val_loss: 0.2454\n",
      "Accuracy in folds 2 : 0.6148902511370378\n",
      "Epoch 1/20\n",
      "141/141 [==============================] - 0s 2ms/step - loss: 0.2580 - val_loss: 0.2414\n",
      "Epoch 2/20\n",
      "141/141 [==============================] - 0s 2ms/step - loss: 0.2458 - val_loss: 0.3198\n",
      "Epoch 3/20\n",
      "141/141 [==============================] - 0s 2ms/step - loss: 0.2466 - val_loss: 0.2515\n",
      "Epoch 4/20\n",
      "141/141 [==============================] - 0s 2ms/step - loss: 0.2445 - val_loss: 0.2311\n",
      "Accuracy in folds 3 : 0.6713730143036056\n",
      "Epoch 1/20\n",
      "141/141 [==============================] - 0s 2ms/step - loss: 0.2248 - val_loss: 0.2610\n",
      "Epoch 2/20\n",
      "141/141 [==============================] - 0s 1ms/step - loss: 0.2204 - val_loss: 0.2489\n",
      "Epoch 3/20\n",
      "141/141 [==============================] - 0s 1ms/step - loss: 0.2192 - val_loss: 0.2583\n",
      "Accuracy in folds 4 : 0.6046206578340254\n",
      "Epoch 1/20\n",
      "141/141 [==============================] - 0s 2ms/step - loss: 0.2157 - val_loss: 0.1931\n",
      "Epoch 2/20\n",
      "141/141 [==============================] - 0s 1ms/step - loss: 0.1963 - val_loss: 0.1992\n",
      "Epoch 3/20\n",
      "141/141 [==============================] - 0s 1ms/step - loss: 0.2156 - val_loss: 0.2348\n",
      "Epoch 4/20\n",
      "141/141 [==============================] - 0s 2ms/step - loss: 0.2232 - val_loss: 0.2082\n",
      "Epoch 5/20\n",
      "141/141 [==============================] - 0s 1ms/step - loss: 0.2037 - val_loss: 0.2026\n",
      "Accuracy in folds 5 : 0.7124513875156548\n",
      "Epoch 1/20\n",
      "141/141 [==============================] - 0s 2ms/step - loss: 0.1939 - val_loss: 0.2033\n",
      "Epoch 2/20\n",
      "141/141 [==============================] - 0s 1ms/step - loss: 0.1825 - val_loss: 0.2129\n",
      "Epoch 3/20\n",
      "141/141 [==============================] - 0s 1ms/step - loss: 0.1884 - val_loss: 0.2266\n",
      "Epoch 4/20\n",
      "141/141 [==============================] - 0s 2ms/step - loss: 0.1692 - val_loss: 0.2104\n",
      "Epoch 5/20\n",
      "141/141 [==============================] - 0s 2ms/step - loss: 0.1712 - val_loss: 0.2038\n",
      "Accuracy in folds 6 : 0.7073165908641488\n",
      "Epoch 1/20\n",
      "141/141 [==============================] - 0s 2ms/step - loss: 0.1765 - val_loss: 0.1622\n",
      "Epoch 2/20\n",
      "141/141 [==============================] - 0s 1ms/step - loss: 0.1665 - val_loss: 0.1776\n",
      "Epoch 3/20\n",
      "141/141 [==============================] - 0s 2ms/step - loss: 0.1585 - val_loss: 0.1703\n",
      "Epoch 4/20\n",
      "141/141 [==============================] - 0s 2ms/step - loss: 0.1633 - val_loss: 0.2139\n",
      "Epoch 5/20\n",
      "141/141 [==============================] - 0s 2ms/step - loss: 0.1687 - val_loss: 0.2051\n",
      "Epoch 6/20\n",
      "141/141 [==============================] - 0s 2ms/step - loss: 0.1538 - val_loss: 0.1715\n",
      "Accuracy in folds 7 : 0.7480719794344473\n",
      "Epoch 1/20\n",
      "141/141 [==============================] - 0s 2ms/step - loss: 0.1422 - val_loss: 0.1520\n",
      "Epoch 2/20\n",
      "141/141 [==============================] - 0s 2ms/step - loss: 0.1443 - val_loss: 0.1746\n",
      "Epoch 3/20\n",
      "141/141 [==============================] - 0s 1ms/step - loss: 0.1357 - val_loss: 0.1715\n",
      "Epoch 4/20\n",
      "141/141 [==============================] - 0s 2ms/step - loss: 0.1369 - val_loss: 0.1928\n",
      "Epoch 5/20\n",
      "141/141 [==============================] - 0s 2ms/step - loss: 0.1246 - val_loss: 0.1709\n",
      "Epoch 6/20\n",
      "141/141 [==============================] - 0s 2ms/step - loss: 0.1257 - val_loss: 0.1833\n",
      "Accuracy in folds 8 : 0.7275064267352185\n",
      "Epoch 1/20\n",
      "141/141 [==============================] - 0s 3ms/step - loss: 0.1392 - val_loss: 0.1478\n",
      "Epoch 2/20\n",
      "141/141 [==============================] - 0s 1ms/step - loss: 0.1284 - val_loss: 0.1815\n",
      "Epoch 3/20\n",
      "141/141 [==============================] - 0s 1ms/step - loss: 0.1293 - val_loss: 0.1692\n",
      "Epoch 4/20\n",
      "141/141 [==============================] - 0s 2ms/step - loss: 0.1144 - val_loss: 0.1825\n",
      "Epoch 5/20\n",
      "141/141 [==============================] - 0s 1ms/step - loss: 0.1153 - val_loss: 0.2153\n",
      "Epoch 6/20\n",
      "141/141 [==============================] - 0s 2ms/step - loss: 0.1343 - val_loss: 0.2088\n",
      "Epoch 7/20\n",
      "141/141 [==============================] - 0s 1ms/step - loss: 0.1255 - val_loss: 0.1725\n",
      "Accuracy in folds 9 : 0.7583547557840618\n",
      "Epoch 1/20\n",
      "141/141 [==============================] - 0s 2ms/step - loss: 0.1244 - val_loss: 0.1304\n",
      "Epoch 2/20\n",
      "141/141 [==============================] - 0s 1ms/step - loss: 0.1189 - val_loss: 0.1279\n",
      "Epoch 3/20\n",
      "141/141 [==============================] - 0s 1ms/step - loss: 0.1048 - val_loss: 0.1267\n",
      "Accuracy in folds 10 : 0.8046272493573265\n",
      "[0.5121943181069145, 0.6148902511370378, 0.6713730143036056, 0.6046206578340254, 0.7124513875156548, 0.7073165908641488, 0.7480719794344473, 0.7275064267352185, 0.7583547557840618, 0.8046272493573265]\n"
     ]
    }
   ],
   "source": [
    "skf = StratifiedKFold(n_splits=10, shuffle=True)\n",
    "score_list = []\n",
    "folds = 1\n",
    "oof = np.zeros(len(X_smote))\n",
    "\n",
    "\n",
    "y_pred_list = []\n",
    "\n",
    "for train_index, test_index in skf.split(X_smote,y_smote):\n",
    "    X_train, X_val = X_smote.iloc[train_index], X_smote.iloc[test_index]\n",
    "    y_train, y_val = y_smote.iloc[train_index], y_smote.iloc[test_index]\n",
    "\n",
    "    \n",
    "    \n",
    "    scaler = StandardScaler()\n",
    "    X_train = scaler.fit_transform(X_train)\n",
    "    X_val = scaler.fit_transform(X_val)\n",
    "    \n",
    "    early_stop = tf.keras.callbacks.EarlyStopping(monitor='val_loss', mode='max', patience=2)\n",
    "    \n",
    "    ann_model = model\n",
    "    ann_model.fit(x=X_train,y=y_train,\n",
    "                  validation_data=(X_val, y_val), epochs=20, batch_size=50,callbacks=[early_stop])\n",
    "    \n",
    "    y_preds = ann_model.predict(X_val)\n",
    "    y_preds = np.where(y_preds > 0.5, 1,0)\n",
    "    \n",
    "    oof[test_index] = y_preds.reshape(-1,)\n",
    "    score = r2_score(y_val, oof[test_index])\n",
    "    score_list.append(score)\n",
    "    print(f\"Accuracy in folds {folds} : {score}\")\n",
    "    \n",
    "    \n",
    "    folds +=1\n",
    "    \n",
    "print(score_list)"
   ]
  },
  {
   "cell_type": "code",
   "execution_count": 83,
   "metadata": {},
   "outputs": [],
   "source": [
    "oof=0"
   ]
  },
  {
   "cell_type": "code",
   "execution_count": 93,
   "metadata": {},
   "outputs": [
    {
     "name": "stdout",
     "output_type": "stream",
     "text": [
      "0.8046272493573265\n"
     ]
    }
   ],
   "source": [
    "print(np.mean(score))"
   ]
  },
  {
   "cell_type": "code",
   "execution_count": 94,
   "metadata": {},
   "outputs": [
    {
     "name": "stdout",
     "output_type": "stream",
     "text": [
      "              precision    recall  f1-score   support\n",
      "\n",
      "           0       0.94      0.90      0.92      3893\n",
      "           1       0.91      0.94      0.92      3893\n",
      "\n",
      "    accuracy                           0.92      7786\n",
      "   macro avg       0.92      0.92      0.92      7786\n",
      "weighted avg       0.92      0.92      0.92      7786\n",
      "\n"
     ]
    }
   ],
   "source": [
    "print(classification_report(y_smote, oof))"
   ]
  },
  {
   "cell_type": "code",
   "execution_count": null,
   "metadata": {},
   "outputs": [],
   "source": []
  },
  {
   "cell_type": "code",
   "execution_count": null,
   "metadata": {},
   "outputs": [],
   "source": []
  },
  {
   "cell_type": "code",
   "execution_count": null,
   "metadata": {},
   "outputs": [],
   "source": [
    "from tensorflow import keras\n",
    "from tensorflow.keras import layers\n",
    "from kerastuner.tuners import RandomSearch\n",
    "\n",
    "def build_model(hp):\n",
    "    model = keras.Sequential()\n",
    "    for i in range(hp.Int('num_layers', 2, 20)):\n",
    "        model.add(layers.Dense(units=hp.Int('units_' + str(i),\n",
    "                                            min_value=32,\n",
    "                                            max_value=512,\n",
    "                                            step=32),\n",
    "                               activation='relu'))\n",
    "    model.add(layers.Dense(1, activation='sigmoid'))\n",
    "    model.compile(\n",
    "        optimizer=keras.optimizers.Adam(\n",
    "            hp.Choice('learning_rate', [1e-2, 1e-3, 1e-4])),\n",
    "        loss='categorical_crossentropy',\n",
    "        metrics='accuracy')\n",
    "    return model"
   ]
  },
  {
   "cell_type": "code",
   "execution_count": null,
   "metadata": {},
   "outputs": [],
   "source": [
    "tuner = RandomSearch(\n",
    "    build_model,\n",
    "    objective='val_accuracy',\n",
    "    max_trials=5,\n",
    "    executions_per_trial=3)"
   ]
  },
  {
   "cell_type": "code",
   "execution_count": null,
   "metadata": {},
   "outputs": [],
   "source": [
    "tuner.search_space_summary()"
   ]
  },
  {
   "cell_type": "code",
   "execution_count": null,
   "metadata": {},
   "outputs": [],
   "source": [
    "tuner.search(trainX,trainy,validation_data=(testX,testy))"
   ]
  },
  {
   "cell_type": "code",
   "execution_count": null,
   "metadata": {},
   "outputs": [],
   "source": [
    "tuner.results_summary()"
   ]
  },
  {
   "cell_type": "code",
   "execution_count": null,
   "metadata": {},
   "outputs": [],
   "source": []
  }
 ],
 "metadata": {
  "kernelspec": {
   "display_name": "Python 3",
   "language": "python",
   "name": "python3"
  },
  "language_info": {
   "codemirror_mode": {
    "name": "ipython",
    "version": 3
   },
   "file_extension": ".py",
   "mimetype": "text/x-python",
   "name": "python",
   "nbconvert_exporter": "python",
   "pygments_lexer": "ipython3",
   "version": "3.8.5"
  }
 },
 "nbformat": 4,
 "nbformat_minor": 4
}
